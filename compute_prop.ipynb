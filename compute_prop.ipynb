{
 "cells": [
  {
   "cell_type": "code",
   "execution_count": 1,
   "metadata": {},
   "outputs": [],
   "source": [
    "import medicalDataLoader\n",
    "from torchvision import transforms\n",
    "from utils import getTargetSegmentation\n",
    "import torch\n",
    "from scipy.ndimage import binary_erosion, binary_closing\n",
    "import seaborn as sb\n",
    "import matplotlib.pyplot as plt\n",
    "root_dir = './Data/'\n",
    "transform = transforms.Compose([\n",
    "        transforms.ToTensor()\n",
    "    ])\n",
    "\n",
    "mask_transform = transforms.Compose([\n",
    "    transforms.ToTensor()\n",
    "])\n",
    "train_set_full = medicalDataLoader.MedicalImageDataset('train',\n",
    "                                                      root_dir,\n",
    "                                                      transform=transform,\n",
    "                                                      mask_transform=mask_transform,\n",
    "                                                      augment=True,\n",
    "                                                      equalize=True)"
   ]
  },
  {
   "cell_type": "code",
   "execution_count": 2,
   "metadata": {},
   "outputs": [],
   "source": [
    "num_by_classe = torch.Tensor([0,0,0,0])\n",
    "prop_2 = []\n",
    "prop_3=[]\n",
    "prop_1=[]\n",
    "prop_0=[]\n",
    "tot=0\n",
    "\n",
    "for img, mask,wx, path in train_set_full:\n",
    "    labels = getTargetSegmentation(mask)\n",
    "    for i in range(4):\n",
    "        num_by_classe[i]+=(labels==i).sum()\n",
    "    prop_2.append((labels==2).sum())\n",
    "    prop_3.append((labels==3).sum())\n",
    "    prop_1.append((labels==1).sum())\n",
    "    prop_0.append((labels==0).sum())\n",
    "    tot+=mask.numel()\n",
    "prop_1 = torch.Tensor(prop_1)\n",
    "prop_2 = torch.Tensor(prop_2)\n",
    "prop_3 = torch.Tensor(prop_3)\n",
    "prop_0 = torch.Tensor(prop_0)\n",
    "\n"
   ]
  },
  {
   "cell_type": "code",
   "execution_count": 63,
   "metadata": {},
   "outputs": [
    {
     "name": "stdout",
     "output_type": "stream",
     "text": [
      "Classe 0 is present on 0.9717700481414795% of pixels\n",
      "Classe 1 is present on 0.009821424260735512% of pixels\n",
      "Classe 2 is present on 0.010279711335897446% of pixels\n",
      "Classe 3 is present on 0.008128820918500423% of pixels\n"
     ]
    },
    {
     "data": {
      "text/plain": [
       "(array([38., 38., 20., 13.,  6., 10.,  8.,  9.,  5.,  1.,  6.,  3.,  4.,\n",
       "         2.,  4.,  3.,  1.,  2.,  6.,  0.,  2.,  1.,  1.,  2.,  2.,  2.,\n",
       "         1.,  0.,  0.,  0.,  1.,  0.,  0.,  0.,  0.,  0.,  0.,  0.,  0.,\n",
       "         0.,  0.,  1.,  0.,  0.,  0.,  0.,  0.,  0.,  0.,  0.,  0.,  0.,\n",
       "         0.,  0.,  0.,  0.,  0.,  0.,  0.,  0.,  0.,  0.,  0.,  0.,  0.,\n",
       "         0.,  0.,  0.,  0.,  0.,  0.,  0.,  0.,  0.,  0.,  0.,  0.,  0.,\n",
       "         0.,  0.,  0.,  0.,  0.,  0.,  0.,  0.,  0.,  0.,  0.,  0.,  0.,\n",
       "         0.,  0.,  0.,  0.,  0.,  0.,  0.,  0.,  1.]),\n",
       " array([ 0.39928487,  0.68084759,  0.96241027,  1.24397302,  1.5255357 ,\n",
       "         1.80709839,  2.08866119,  2.37022376,  2.65178657,  2.93334913,\n",
       "         3.21491194,  3.4964745 ,  3.77803731,  4.05959988,  4.34116268,\n",
       "         4.62272549,  4.90428829,  5.18585062,  5.46741343,  5.74897623,\n",
       "         6.03053904,  6.31210184,  6.59366417,  6.87522697,  7.15678978,\n",
       "         7.43835258,  7.71991539,  8.0014782 ,  8.283041  ,  8.56460285,\n",
       "         8.84616566,  9.12772846,  9.40929127,  9.69085407,  9.97241688,\n",
       "        10.25397968, 10.53554249, 10.81710529, 11.0986681 , 11.38022995,\n",
       "        11.66179276, 11.94335556, 12.22491837, 12.50648117, 12.78804398,\n",
       "        13.06960678, 13.35116959, 13.63273239, 13.91429424, 14.19585705,\n",
       "        14.47741985, 14.75898266, 15.04054546, 15.32210827, 15.60367107,\n",
       "        15.88523388, 16.16679573, 16.44835854, 16.72992134, 17.01148415,\n",
       "        17.29304695, 17.57460976, 17.85617256, 18.13773537, 18.41929817,\n",
       "        18.70086098, 18.98242378, 19.26398659, 19.54554939, 19.8271122 ,\n",
       "        20.108675  , 20.39023781, 20.67179871, 20.95336151, 21.23492432,\n",
       "        21.51648712, 21.79804993, 22.07961273, 22.36117554, 22.64273834,\n",
       "        22.92430115, 23.20586395, 23.48742676, 23.76898956, 24.05055237,\n",
       "        24.33211517, 24.61367798, 24.89524078, 25.17680359, 25.45836639,\n",
       "        25.7399292 , 26.0214901 , 26.3030529 , 26.58461571, 26.86617851,\n",
       "        27.14774132, 27.42930412, 27.71086693, 27.99242973, 28.27399254,\n",
       "        28.55555534]),\n",
       " <BarContainer object of 100 artists>)"
      ]
     },
     "execution_count": 63,
     "metadata": {},
     "output_type": "execute_result"
    },
    {
     "data": {
      "image/png": "[encoded data removed]",
      "text/plain": [
       "<Figure size 640x480 with 1 Axes>"
      ]
     },
     "metadata": {},
     "output_type": "display_data"
    }
   ],
   "source": [
    "for classe, numel in enumerate(num_by_classe):\n",
    "    print(f\"Classe {classe} is present on {numel/tot}% of pixels\")\n",
    "tens_prop_2 =torch.Tensor(prop_2)\n",
    "tens_prop_3 = torch.Tensor(prop_3)\n",
    "prop_relative = tens_prop_2[tens_prop_3!=0]/tens_prop_3[tens_prop_3!=0]\n",
    "hist , bins = prop_relative.histogram()\n",
    "plt.hist(prop_relative, bins=100)"
   ]
  },
  {
   "cell_type": "code",
   "execution_count": 80,
   "metadata": {},
   "outputs": [],
   "source": [
    "final_props=[0,0,0,0]\n",
    "mask = (prop_3!=0).bitwise_and(prop_2!=0).bitwise_and(prop_1!=0)\n",
    "sum_all = sum(p[mask].sum() for p in [prop_0, prop_1, prop_2, prop_3])\n",
    "for i, props in enumerate([prop_0, prop_1, prop_2, prop_3]):\n",
    "    current_sum = props[mask].sum()\n",
    "    final_props[i] = current_sum/sum_all"
   ]
  },
  {
   "cell_type": "code",
   "execution_count": 18,
   "metadata": {},
   "outputs": [
    {
     "data": {
      "text/plain": [
       "<Axes: ylabel='Count'>"
      ]
     },
     "execution_count": 18,
     "metadata": {},
     "output_type": "execute_result"
    },
    {
     "data": {
      "image/png": "[encoded data removed]",
      "text/plain": [
       "<Figure size 640x480 with 1 Axes>"
      ]
     },
     "metadata": {},
     "output_type": "display_data"
    }
   ],
   "source": [
    "sb.histplot(prop_1)"
   ]
  },
  {
   "cell_type": "code",
   "execution_count": 103,
   "metadata": {},
   "outputs": [],
   "source": [
    "test_seg = torch.Tensor([[\n",
    "    [0,0,1,0,0],\n",
    "    [0,0,1,0,0],\n",
    "    [0,0,0,0,0],\n",
    "    [0,0,0,0,0],\n",
    "    [0,0,0,0,0],\n",
    "]])"
   ]
  },
  {
   "cell_type": "code",
   "execution_count": 95,
   "metadata": {},
   "outputs": [],
   "source": [
    "def cog(segmentations):\n",
    "    coord=[]\n",
    "    for seg in segmentations:\n",
    "        grid_x, grid_y = torch.meshgrid(torch.arange(seg.shape[1]), torch.arange(seg.shape[0]))\n",
    "\n",
    "        flat_grid_x = grid_x.flatten().float()\n",
    "        flat_grid_y = grid_y.flatten().float()\n",
    "        flat_probabilities = seg.flatten()\n",
    "\n",
    "        center_x = torch.sum(flat_grid_x * flat_probabilities) / torch.sum(flat_probabilities)\n",
    "        center_y = torch.sum(flat_grid_y * flat_probabilities) / torch.sum(flat_probabilities)\n",
    "        coord.append([center_x, center_y])\n",
    "\n",
    "    return torch.Tensor(coord)\n",
    "\n",
    "b =cog(test_seg)"
   ]
  },
  {
   "cell_type": "code",
   "execution_count": 119,
   "metadata": {},
   "outputs": [
    {
     "data": {
      "text/plain": [
       "<matplotlib.image.AxesImage at 0x1c5a5fb85d0>"
      ]
     },
     "execution_count": 119,
     "metadata": {},
     "output_type": "execute_result"
    },
    {
     "data": {
      "image/png": "[encoded data removed]",
      "text/plain": [
       "<Figure size 640x480 with 1 Axes>"
      ]
     },
     "metadata": {},
     "output_type": "display_data"
    }
   ],
   "source": [
    "plt.imshow(labels==3, cmap=\"gray\")"
   ]
  },
  {
   "cell_type": "code",
   "execution_count": 136,
   "metadata": {},
   "outputs": [],
   "source": [
    "c=torch.t_copy(a)"
   ]
  },
  {
   "cell_type": "code",
   "execution_count": 137,
   "metadata": {},
   "outputs": [
    {
     "data": {
      "text/plain": [
       "tensor([1.])"
      ]
     },
     "execution_count": 137,
     "metadata": {},
     "output_type": "execute_result"
    }
   ],
   "source": [
    "c[0]"
   ]
  },
  {
   "cell_type": "code",
   "execution_count": 161,
   "metadata": {},
   "outputs": [
    {
     "data": {
      "text/plain": [
       "<matplotlib.image.AxesImage at 0x1c5a75e05d0>"
      ]
     },
     "execution_count": 161,
     "metadata": {},
     "output_type": "execute_result"
    },
    {
     "data": {
      "image/png": "[encoded data removed]",
      "text/plain": [
       "<Figure size 640x480 with 1 Axes>"
      ]
     },
     "metadata": {},
     "output_type": "display_data"
    }
   ],
   "source": [
    "plt.imshow((labels==0)^binary_closing(labels==0), cmap='gray')"
   ]
  },
  {
   "cell_type": "code",
   "execution_count": 3,
   "metadata": {},
   "outputs": [],
   "source": [
    "from UNet_Base import SegNet\n",
    "import matplotlib.pyplot as plt"
   ]
  },
  {
   "cell_type": "code",
   "execution_count": 4,
   "metadata": {},
   "outputs": [
    {
     "name": "stdout",
     "output_type": "stream",
     "text": [
      "tensor([[-1.2238]], grad_fn=<SelectBackward0>)\n"
     ]
    }
   ],
   "source": [
    "net = SegNet()\n",
    "net(img[None,:])\n",
    "print(net(img[None,:]))"
   ]
  },
  {
   "cell_type": "code",
   "execution_count": 7,
   "metadata": {},
   "outputs": [],
   "source": [
    "t=torch.Tensor([[[[0,0,0],[0,0,1],[0,1,1],[1,1,1]],\n",
    "                [[0,0,0],[0,0,1],[0,1,1],[1,1,1]],\n",
    "                [[0,0,0],[0,0,1],[0,1,1],[1,1,1]],\n",
    "                [[0,0,0],[0,0,1],[0,1,1],[1,1,1]]]])"
   ]
  },
  {
   "cell_type": "code",
   "execution_count": 13,
   "metadata": {},
   "outputs": [
    {
     "data": {
      "text/plain": [
       "tensor([[[0., 0., 0.],\n",
       "         [0., 0., 2.],\n",
       "         [0., 2., 2.],\n",
       "         [2., 2., 2.]]])"
      ]
     },
     "execution_count": 13,
     "metadata": {},
     "output_type": "execute_result"
    }
   ],
   "source": [
    "t[:,2]*2"
   ]
  },
  {
   "cell_type": "code",
   "execution_count": 2,
   "metadata": {},
   "outputs": [],
   "source": [
    "from  medicalDataLoader import RandomZoomCrop"
   ]
  },
  {
   "cell_type": "code",
   "execution_count": 4,
   "metadata": {},
   "outputs": [
    {
     "ename": "TypeError",
     "evalue": "RandomZoomCrop.__init__() missing 1 required positional argument: 'size'",
     "output_type": "error",
     "traceback": [
      "\u001b[1;31m---------------------------------------------------------------------------\u001b[0m",
      "\u001b[1;31mTypeError\u001b[0m                                 Traceback (most recent call last)",
      "\u001b[1;32mc:\\Users\\Brico\\OneDrive\\Code\\MTI865\\Challenge-H2023\\compute_prop.ipynb Cell 17\u001b[0m line \u001b[0;36m1\n\u001b[1;32m----> <a href='vscode-notebook-cell:/c%3A/Users/Brico/OneDrive/Code/MTI865/Challenge-H2023/compute_prop.ipynb#X22sZmlsZQ%3D%3D?line=0'>1</a>\u001b[0m rzt \u001b[39m=\u001b[39m RandomZoomCrop()\n",
      "\u001b[1;31mTypeError\u001b[0m: RandomZoomCrop.__init__() missing 1 required positional argument: 'size'"
     ]
    }
   ],
   "source": []
  },
  {
   "cell_type": "code",
   "execution_count": 52,
   "metadata": {},
   "outputs": [
    {
     "data": {
      "text/plain": [
       "<matplotlib.image.AxesImage at 0x1da2132aa50>"
      ]
     },
     "execution_count": 52,
     "metadata": {},
     "output_type": "execute_result"
    },
    {
     "data": {
      "image/png": "[encoded data removed]",
      "text/plain": [
       "<Figure size 640x480 with 1 Axes>"
      ]
     },
     "metadata": {},
     "output_type": "display_data"
    }
   ],
   "source": [
    "img,mask,path, ed = train_set_full[1]\n",
    "rzt = RandomZoomCrop(img.shape[1:], scale=(1.01,1.6), offcenter=(-30,30))\n",
    "plt.imshow(mask[0])"
   ]
  },
  {
   "cell_type": "code",
   "execution_count": 70,
   "metadata": {},
   "outputs": [
    {
     "data": {
      "text/plain": [
       "torch.Size([1, 256, 256])"
      ]
     },
     "execution_count": 70,
     "metadata": {},
     "output_type": "execute_result"
    },
    {
     "data": {
      "image/png": "[encoded data removed]",
      "text/plain": [
       "<Figure size 640x480 with 1 Axes>"
      ]
     },
     "metadata": {},
     "output_type": "display_data"
    }
   ],
   "source": [
    "r_img, r_mask = rzt(img, mask)\n",
    "plt.imshow(r_mask[0])\n",
    "r_img.shape"
   ]
  },
  {
   "cell_type": "code",
   "execution_count": null,
   "metadata": {},
   "outputs": [],
   "source": []
  }
 ],
 "metadata": {
  "kernelspec": {
   "display_name": "monai",
   "language": "python",
   "name": "python3"
  },
  "language_info": {
   "codemirror_mode": {
    "name": "ipython",
    "version": 3
   },
   "file_extension": ".py",
   "mimetype": "text/x-python",
   "name": "python",
   "nbconvert_exporter": "python",
   "pygments_lexer": "ipython3",
   "version": "3.11.5"
  }
 },
 "nbformat": 4,
 "nbformat_minor": 2
}
