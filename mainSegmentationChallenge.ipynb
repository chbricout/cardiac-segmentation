{
 "cells": [
  {
   "cell_type": "code",
   "execution_count": 4,
   "id": "6b07cf2f-b81d-43ef-907a-c49fed2d95ac",
   "metadata": {
    "tags": []
   },
   "outputs": [],
   "source": [
    "from torch.utils.data import DataLoader\n",
    "from torchvision import transforms\n",
    "from progressBar import printProgressBar\n",
    "\n",
    "import medicalDataLoader\n",
    "import argparse\n",
    "from utils import *\n",
    "\n",
    "from UNet_Base import *\n",
    "import random\n",
    "import torch\n",
    "import pdb\n",
    "from monai.networks.nets import UNet as MUNet"
   ]
  },
  {
   "cell_type": "code",
   "execution_count": 2,
   "id": "8e976350-3fd5-4406-8511-86a06a9b4494",
   "metadata": {
    "tags": []
   },
   "outputs": [],
   "source": [
    "import warnings\n",
    "warnings.filterwarnings(\"ignore\")"
   ]
  },
  {
   "cell_type": "code",
   "execution_count": 5,
   "metadata": {},
   "outputs": [],
   "source": [
    "def out_to_seg(img, num_classes):\n",
    "    out = torch.zeros((1,*img.shape[1:])).to(img.device)\n",
    "    for i,layer in enumerate(img) :\n",
    "        out += layer*(i*255/(num_classes-1))\n",
    "    return out"
   ]
  },
  {
   "cell_type": "code",
   "execution_count": 7,
   "id": "220c7dcc-8438-454d-97b1-8e989a7b8f06",
   "metadata": {
    "tags": []
   },
   "outputs": [],
   "source": [
    "from numpy import isnan\n",
    "\n",
    "\n",
    "def runTraining():\n",
    "    print('-' * 40)\n",
    "    print('~~~~~~~~  Starting the training... ~~~~~~')\n",
    "    print('-' * 40)\n",
    "\n",
    "    ## DEFINE HYPERPARAMETERS (batch_size > 1)\n",
    "    batch_size = 8\n",
    "    batch_size_val = 8\n",
    "    lr =   0.0001  # Learning Rate\n",
    "    epoch = 200 # Number of epochs\n",
    "    \n",
    "    root_dir = './Data/'\n",
    "\n",
    "    print(' Dataset: {} '.format(root_dir))\n",
    "\n",
    "    ## DEFINE THE TRANSFORMATIONS TO DO AND THE VARIABLES FOR TRAINING AND VALIDATION\n",
    "    \n",
    "    transform = transforms.Compose([\n",
    "        transforms.ToTensor()\n",
    "    ])\n",
    "\n",
    "    mask_transform = transforms.Compose([\n",
    "        transforms.ToTensor()\n",
    "    ])\n",
    "\n",
    "    train_set_full = medicalDataLoader.MedicalImageDataset('train',\n",
    "                                                      root_dir,\n",
    "                                                      transform=transform,\n",
    "                                                      mask_transform=mask_transform,\n",
    "                                                      augment=True,\n",
    "                                                      equalize=True)\n",
    "\n",
    "    train_loader_full = DataLoader(train_set_full,\n",
    "                              batch_size=batch_size,\n",
    "                              worker_init_fn=np.random.seed(0),\n",
    "                              num_workers=0,\n",
    "                              shuffle=True)\n",
    "\n",
    "\n",
    "    val_set = medicalDataLoader.MedicalImageDataset('val',\n",
    "                                                    root_dir,\n",
    "                                                    transform=transform,\n",
    "                                                    mask_transform=mask_transform,\n",
    "                                                    equalize=False)\n",
    "\n",
    "    val_loader = DataLoader(val_set,\n",
    "                            batch_size=batch_size_val,\n",
    "                            worker_init_fn=np.random.seed(0),\n",
    "                            num_workers=0,\n",
    "                            shuffle=False)\n",
    "\n",
    "\n",
    "    ## INITIALIZE YOUR MODEL\n",
    "    num_classes = 4 # NUMBER OF CLASSES\n",
    "\n",
    "    print(\"~~~~~~~~~~~ Creating the UNet model ~~~~~~~~~~\")\n",
    "    modelName = 'Test_Model'\n",
    "    print(\" Model Name: {}\".format(modelName))\n",
    "\n",
    "    ## CREATION OF YOUR MODEL\n",
    "    # net = UNet(num_classes)\n",
    "    net=MUNet(\n",
    "        spatial_dims=2,\n",
    "        in_channels=1,\n",
    "        out_channels=2,\n",
    "        channels=(4, 8, 16, 32, 64, 128),\n",
    "        strides=(1, 1, 1, 2, 2),\n",
    "    )\n",
    "    print(\"Total params: {0:,}\".format(sum(p.numel() for p in net.parameters() if p.requires_grad)))\n",
    "\n",
    "    # DEFINE YOUR OUTPUT COMPONENTS (e.g., SOFTMAX, LOSS FUNCTION, ETC)\n",
    "    softMax = torch.nn.Softmax()\n",
    "    CE_loss = torch.nn.MSELoss( reduction=\"sum\")\n",
    "\n",
    "    ## PUT EVERYTHING IN GPU RESOURCES    \n",
    "    if torch.cuda.is_available():\n",
    "        net.cuda()\n",
    "        softMax.cuda()\n",
    "        CE_loss.cuda()\n",
    "\n",
    "    ## DEFINE YOUR OPTIMIZER\n",
    "    optimizer = torch.optim.Adam(net.parameters(), lr=lr)\n",
    "\n",
    "    ### To save statistics ####\n",
    "    lossTotalTraining = []\n",
    "    Best_loss_val = 1000\n",
    "    BestEpoch = 0\n",
    "    \n",
    "    directory = 'Results/Statistics/' + modelName\n",
    "\n",
    "    print(\"~~~~~~~~~~~ Starting the training ~~~~~~~~~~\")\n",
    "    if os.path.exists(directory)==False:\n",
    "        os.makedirs(directory)\n",
    "\n",
    "    ## START THE TRAINING\n",
    "    \n",
    "    ## FOR EACH EPOCH\n",
    "    for i in range(epoch):\n",
    "        net.train()\n",
    "        lossEpoch = []\n",
    "        DSCEpoch = []\n",
    "        DSCEpoch_w = []\n",
    "        num_batches = len(train_loader_full)\n",
    "        \n",
    "        ## FOR EACH BATCH\n",
    "        for j, data in enumerate(train_loader_full):\n",
    "            ### Set to zero all the gradients\n",
    "            net.zero_grad()\n",
    "            optimizer.zero_grad()\n",
    "\n",
    "            ## GET IMAGES, LABELS and IMG NAMES\n",
    "            images, labels, img_names = data\n",
    "\n",
    "            ### From numpy to torch variables\n",
    "            labels = to_var(labels)\n",
    "            images = to_var(images)\n",
    "            \n",
    "            ################### Train ###################\n",
    "            #-- The CNN makes its predictions (forward pass)\n",
    "            net_predictions = softMax(net(images))\n",
    "            #-- Compute the losses --#\n",
    "            # THIS FUNCTION IS TO CONVERT LABELS TO A FORMAT TO BE USED IN THIS CODE\n",
    "            segmentation_classes = getTargetSegmentation(labels)\n",
    "            encoded_classes = batch_one_hot_encode_2_chan(segmentation_classes, 2)\n",
    "            encoded_classes[:,1,:,:]=encoded_classes[:, -3:, :, :].sum(dim=1, keepdim=True)\n",
    "            # COMPUTE THE LOSS\n",
    "            CE_loss_value = CE_loss(net_predictions, encoded_classes[:,:2, :, :]) # XXXXXX and YYYYYYY are your inputs for the CE\n",
    "            # element_by_layers = predToSegmentation(net_predictions).sum(dim=(2,3))\n",
    "            # prob_by_layer = (element_by_layers/(element_by_layers.sum()))\n",
    "            # piecewise_diff = prob_by_layer - torch.Tensor([0.8,0.2]).to(prob_by_layer.device)\n",
    "            # shannon = torch.pow(piecewise_diff, 2)\n",
    "            lossTotal = CE_loss_value\n",
    "            # DO THE STEPS FOR BACKPROP (two things to be done in pytorch)\n",
    "            CE_loss_value.backward()\n",
    "            optimizer.step()\n",
    "            # THIS IS JUST TO VISUALIZE THE TRAINING \n",
    "            lossEpoch.append(lossTotal.cpu().data.numpy())\n",
    "            printProgressBar(j + 1, num_batches,\n",
    "                             prefix=\"[Training] Epoch: {} \".format(i) ,\n",
    "                            length=15,\n",
    "                             suffix=\" Loss: {:.4f}, \".format(lossTotal))\n",
    "\n",
    "        lossEpoch = np.asarray(lossEpoch)\n",
    "        lossEpoch = lossEpoch.mean()\n",
    "\n",
    "        lossTotalTraining.append(lossEpoch)\n",
    "\n",
    "        printProgressBar(num_batches, num_batches,\n",
    "                             done=\"[Training] Epoch: {}, LossG: {:.4f}\".format(i,lossEpoch))\n",
    "\n",
    "        \n",
    "        ## THIS IS HOW YOU WILL SAVE THE TRAINED MODELS AFTER EACH EPOCH. \n",
    "        ## WARNING!!!!! YOU DON'T WANT TO SAVE IT AT EACH EPOCH, BUT ONLY WHEN THE MODEL WORKS BEST ON THE VALIDATION SET!!\n",
    "        if not os.path.exists('./models/' + modelName):\n",
    "            os.makedirs('./models/' + modelName)\n",
    "        if i == epoch-1:\n",
    "            torch.save(net.state_dict(), './models/' + modelName + '/' + str(i) + '_Epoch')\n",
    "            \n",
    "        np.save(os.path.join(directory, 'Losses.npy'), lossTotalTraining)\n",
    "    return net\n"
   ]
  },
  {
   "cell_type": "code",
   "execution_count": 8,
   "id": "67f81713-4c18-4dd3-bc72-35dd8f30a339",
   "metadata": {
    "tags": []
   },
   "outputs": [
    {
     "name": "stdout",
     "output_type": "stream",
     "text": [
      "----------------------------------------\n",
      "~~~~~~~~  Starting the training... ~~~~~~\n",
      "----------------------------------------\n",
      " Dataset: ./Data/ \n",
      "~~~~~~~~~~~ Creating the UNet model ~~~~~~~~~~\n",
      " Model Name: Test_Model\n",
      "Total params: 166,104\n",
      "~~~~~~~~~~~ Starting the training ~~~~~~~~~~\n"
     ]
    },
    {
     "ename": "RuntimeError",
     "evalue": "expand(torch.cuda.FloatTensor{[8, 1, 256, 256]}, size=[8, 256, 256]): the number of sizes provided (3) must be greater or equal to the number of dimensions in the tensor (4)",
     "output_type": "error",
     "traceback": [
      "\u001b[1;31m---------------------------------------------------------------------------\u001b[0m",
      "\u001b[1;31mRuntimeError\u001b[0m                              Traceback (most recent call last)",
      "\u001b[1;32mc:\\Users\\Brico\\OneDrive\\Code\\MTI865\\Challenge-H2023\\mainSegmentationChallenge.ipynb Cell 6\u001b[0m line \u001b[0;36m1\n\u001b[1;32m----> <a href='vscode-notebook-cell:/c%3A/Users/Brico/OneDrive/Code/MTI865/Challenge-H2023/mainSegmentationChallenge.ipynb#W5sZmlsZQ%3D%3D?line=0'>1</a>\u001b[0m testnet \u001b[39m=\u001b[39m runTraining()\n",
      "\u001b[1;32mc:\\Users\\Brico\\OneDrive\\Code\\MTI865\\Challenge-H2023\\mainSegmentationChallenge.ipynb Cell 6\u001b[0m line \u001b[0;36m1\n\u001b[0;32m    <a href='vscode-notebook-cell:/c%3A/Users/Brico/OneDrive/Code/MTI865/Challenge-H2023/mainSegmentationChallenge.ipynb#W5sZmlsZQ%3D%3D?line=125'>126</a>\u001b[0m segmentation_classes \u001b[39m=\u001b[39m getTargetSegmentation(labels)\n\u001b[0;32m    <a href='vscode-notebook-cell:/c%3A/Users/Brico/OneDrive/Code/MTI865/Challenge-H2023/mainSegmentationChallenge.ipynb#W5sZmlsZQ%3D%3D?line=126'>127</a>\u001b[0m encoded_classes \u001b[39m=\u001b[39m batch_one_hot_encode(segmentation_classes, \u001b[39m2\u001b[39m)\n\u001b[1;32m--> <a href='vscode-notebook-cell:/c%3A/Users/Brico/OneDrive/Code/MTI865/Challenge-H2023/mainSegmentationChallenge.ipynb#W5sZmlsZQ%3D%3D?line=127'>128</a>\u001b[0m encoded_classes[:,\u001b[39m1\u001b[39;49m,:,:]\u001b[39m=\u001b[39mencoded_classes[:, \u001b[39m-\u001b[39m\u001b[39m3\u001b[39m:, :, :]\u001b[39m.\u001b[39msum(dim\u001b[39m=\u001b[39m\u001b[39m1\u001b[39m, keepdim\u001b[39m=\u001b[39m\u001b[39mTrue\u001b[39;00m)\n\u001b[0;32m    <a href='vscode-notebook-cell:/c%3A/Users/Brico/OneDrive/Code/MTI865/Challenge-H2023/mainSegmentationChallenge.ipynb#W5sZmlsZQ%3D%3D?line=128'>129</a>\u001b[0m \u001b[39m# COMPUTE THE LOSS\u001b[39;00m\n\u001b[0;32m    <a href='vscode-notebook-cell:/c%3A/Users/Brico/OneDrive/Code/MTI865/Challenge-H2023/mainSegmentationChallenge.ipynb#W5sZmlsZQ%3D%3D?line=129'>130</a>\u001b[0m CE_loss_value \u001b[39m=\u001b[39m CE_loss(net_predictions, encoded_classes[:,:\u001b[39m2\u001b[39m, :, :]) \u001b[39m# XXXXXX and YYYYYYY are your inputs for the CE\u001b[39;00m\n",
      "\u001b[1;31mRuntimeError\u001b[0m: expand(torch.cuda.FloatTensor{[8, 1, 256, 256]}, size=[8, 256, 256]): the number of sizes provided (3) must be greater or equal to the number of dimensions in the tensor (4)"
     ]
    }
   ],
   "source": [
    "testnet = runTraining()"
   ]
  },
  {
   "cell_type": "code",
   "execution_count": 22,
   "id": "5ae10184-bacf-4c4d-9767-3272a76a0052",
   "metadata": {},
   "outputs": [],
   "source": [
    "import matplotlib.pyplot as plt\n",
    "from PIL import Image"
   ]
  },
  {
   "cell_type": "code",
   "execution_count": 41,
   "metadata": {},
   "outputs": [],
   "source": [
    "# mod = UNet(num_classes=4).cuda()\n",
    "# mod.load_state_dict(torch.load(\"models/Test_Model/49_Epoch\"))\n",
    "mod=testnet\n",
    "transform = transforms.Compose([\n",
    "        transforms.ToTensor()\n",
    "    ])"
   ]
  },
  {
   "cell_type": "code",
   "execution_count": 42,
   "metadata": {},
   "outputs": [
    {
     "name": "stdout",
     "output_type": "stream",
     "text": [
      "[Inference] Segmentation Done !                                                                              \n"
     ]
    },
    {
     "data": {
      "text/plain": [
       "0.14851381"
      ]
     },
     "execution_count": 42,
     "metadata": {},
     "output_type": "execute_result"
    }
   ],
   "source": [
    "val_set = medicalDataLoader.MedicalImageDataset('train',\n",
    "                                                    \"./Data/\",\n",
    "                                                    transform=transform,\n",
    "                                                    mask_transform=transform,\n",
    "                                                    equalize=False)\n",
    "\n",
    "val_loader = DataLoader(val_set,\n",
    "                            batch_size=2,\n",
    "                            worker_init_fn=np.random.seed(0),\n",
    "                            num_workers=0,\n",
    "                            shuffle=False)\n",
    "inference(mod, val_loader, \"Test_Model\", 99)"
   ]
  },
  {
   "cell_type": "code",
   "execution_count": 44,
   "metadata": {},
   "outputs": [
    {
     "name": "stdout",
     "output_type": "stream",
     "text": [
      "torch.return_types.max(\n",
      "values=tensor([[0.8203, 0.9187, 0.9304,  ..., 0.9028, 0.9316, 0.8106],\n",
      "        [0.8966, 0.9714, 0.9696,  ..., 0.9666, 0.9823, 0.9427],\n",
      "        [0.8955, 0.9712, 0.9633,  ..., 0.9632, 0.9753, 0.9357],\n",
      "        ...,\n",
      "        [0.9536, 0.9894, 0.9843,  ..., 0.9690, 0.9787, 0.9432],\n",
      "        [0.9125, 0.9904, 0.9850,  ..., 0.9827, 0.9881, 0.9569],\n",
      "        [0.8138, 0.9380, 0.9363,  ..., 0.9060, 0.9198, 0.8533]]),\n",
      "indices=tensor([[0, 0, 0,  ..., 0, 0, 0],\n",
      "        [0, 0, 0,  ..., 0, 0, 0],\n",
      "        [0, 0, 0,  ..., 0, 0, 0],\n",
      "        ...,\n",
      "        [0, 0, 0,  ..., 0, 0, 0],\n",
      "        [0, 0, 0,  ..., 0, 0, 0],\n",
      "        [0, 0, 0,  ..., 0, 0, 0]]))\n"
     ]
    },
    {
     "data": {
      "text/plain": [
       "(tensor([0.0000, 0.3333, 0.6667, 1.0000]),\n",
       " './Data/train\\\\Img\\\\patient006_01_11.png')"
      ]
     },
     "execution_count": 44,
     "metadata": {},
     "output_type": "execute_result"
    },
    {
     "data": {
      "image/png": "[encoded data removed]",
      "text/plain": [
       "<Figure size 2000x2000 with 2 Axes>"
      ]
     },
     "metadata": {},
     "output_type": "display_data"
    }
   ],
   "source": [
    "img, mask, path = val_set[2]\n",
    "out = mod(to_var(img)[None,:])\n",
    "out_cpu =out.detach().cpu()[0]\n",
    "out_cpu = torch.nn.functional.softmax(out_cpu, dim=0)\n",
    "segmentation_image = out_to_seg(predToSegmentation(out_cpu),3)\n",
    "\n",
    "# Now, concatenated_output has shape (batch_size, 1, num_classes, height, width)\n",
    "# If you want to remove the singleton dimension, you can use squeeze\n",
    "print(out_cpu.max(dim=0))\n",
    "fig, plots = plt.subplots(1,2, figsize=(20,20))\n",
    "plots[0].imshow(segmentation_image.permute(1,2,0), cmap=\"gray\")\n",
    "plots[1].imshow(mask.permute(1,2,0), cmap=\"gray\")\n",
    "mask.unique(), path\n"
   ]
  },
  {
   "cell_type": "code",
   "execution_count": null,
   "metadata": {},
   "outputs": [],
   "source": []
  }
 ],
 "metadata": {
  "kernelspec": {
   "display_name": "saturn (Python 3)",
   "language": "python",
   "name": "python3"
  },
  "language_info": {
   "codemirror_mode": {
    "name": "ipython",
    "version": 3
   },
   "file_extension": ".py",
   "mimetype": "text/x-python",
   "name": "python",
   "nbconvert_exporter": "python",
   "pygments_lexer": "ipython3",
   "version": "3.11.5"
  }
 },
 "nbformat": 4,
 "nbformat_minor": 5
}
