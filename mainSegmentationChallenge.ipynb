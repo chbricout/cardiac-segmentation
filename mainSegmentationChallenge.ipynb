{
 "cells": [
  {
   "cell_type": "code",
   "execution_count": 1,
   "id": "6b07cf2f-b81d-43ef-907a-c49fed2d95ac",
   "metadata": {
    "tags": []
   },
   "outputs": [
    {
     "name": "stderr",
     "output_type": "stream",
     "text": [
      "c:\\Users\\Brico\\miniconda3\\envs\\monai\\Lib\\site-packages\\torchvision\\io\\image.py:13: UserWarning: Failed to load image Python extension: '[WinError 127] La procédure spécifiée est introuvable'If you don't plan on using image functionality from `torchvision.io`, you can ignore this warning. Otherwise, there might be something wrong with your environment. Did you have `libjpeg` or `libpng` installed before building `torchvision` from source?\n",
      "  warn(\n"
     ]
    }
   ],
   "source": [
    "from torch.utils.data import DataLoader\n",
    "from torchvision import transforms\n",
    "from progressBar import printProgressBar\n",
    "\n",
    "import medicalDataLoader\n",
    "import argparse\n",
    "from utils import *\n",
    "\n",
    "from UNet_Base import *\n",
    "import random\n",
    "import torch\n",
    "import pdb"
   ]
  },
  {
   "cell_type": "code",
   "execution_count": 2,
   "id": "8e976350-3fd5-4406-8511-86a06a9b4494",
   "metadata": {
    "tags": []
   },
   "outputs": [],
   "source": [
    "import warnings\n",
    "warnings.filterwarnings(\"ignore\")"
   ]
  },
  {
   "cell_type": "code",
   "execution_count": 3,
   "metadata": {},
   "outputs": [
    {
     "name": "stdout",
     "output_type": "stream",
     "text": [
      "torch.Size([2, 3, 3, 3])\n"
     ]
    }
   ],
   "source": [
    "def batch_one_hot_encode(batch_segmentation_maps, num_classes):\n",
    "    \"\"\"\n",
    "    Perform one-hot encoding on a batch of segmentation maps.\n",
    "\n",
    "    Args:\n",
    "    - batch_segmentation_maps (torch.Tensor): Batch of segmentation map tensors with class indices.\n",
    "      Shape: (batch_size, H, W)\n",
    "    - num_classes (int): Number of classes in the segmentation task.\n",
    "\n",
    "    Returns:\n",
    "    - torch.Tensor: Batch of one-hot encoded tensors.\n",
    "      Shape: (batch_size, num_classes, H, W)\n",
    "    \"\"\"\n",
    "    # Ensure the batch_segmentation_maps is a PyTorch tensor\n",
    "    batch_segmentation_maps = torch.tensor(batch_segmentation_maps)\n",
    "\n",
    "    # Ensure the batch_segmentation_maps has the correct shape (batch_size, H, W)\n",
    "    if len(batch_segmentation_maps.shape) != 3:\n",
    "        raise ValueError(\"Batch segmentation maps should be a 3D tensor (batch_size, H, W).\")\n",
    "\n",
    "    # Create a zero-filled tensor with dimensions (batch_size, num_classes, H, W)\n",
    "    batch_one_hot = torch.zeros((batch_segmentation_maps.shape[0], num_classes, \n",
    "                                 batch_segmentation_maps.shape[1], batch_segmentation_maps.shape[2]))\n",
    "\n",
    "    # Fill in the one-hot tensor based on class indices for each batch\n",
    "    for batch_idx in range(batch_segmentation_maps.shape[0]):\n",
    "        for class_idx in range(num_classes):\n",
    "            batch_one_hot[batch_idx, class_idx, :, :] = (\n",
    "                batch_segmentation_maps[batch_idx, :, :] == class_idx\n",
    "            ).float()\n",
    "\n",
    "    return to_var(batch_one_hot)\n",
    "\n",
    "# Example usage:\n",
    "# Assuming batch_segmentation_maps is your batch of segmentation map tensors with class indices\n",
    "# and num_classes is the number of classes in your segmentation task.\n",
    "batch_segmentation_maps = torch.tensor([[[0, 1, 0], [2, 1, 2], [0, 1, 2]],\n",
    "                                        [[2, 0, 1], [1, 2, 0], [0, 2, 1]]])\n",
    "num_classes = 3\n",
    "\n",
    "batch_one_hot_encoded = batch_one_hot_encode(batch_segmentation_maps, num_classes)\n",
    "print(batch_one_hot_encoded.shape)"
   ]
  },
  {
   "cell_type": "code",
   "execution_count": 4,
   "metadata": {},
   "outputs": [
    {
     "data": {
      "text/plain": [
       "tensor([[[  0.0000, 127.5000,   0.0000],\n",
       "         [255.0000, 127.5000, 255.0000],\n",
       "         [  0.0000, 127.5000, 255.0000]]], device='cuda:0')"
      ]
     },
     "execution_count": 4,
     "metadata": {},
     "output_type": "execute_result"
    }
   ],
   "source": [
    "def out_to_seg(img, num_classes):\n",
    "    out = torch.zeros((1,*img.shape[1:])).to(img.device)\n",
    "    for i,layer in enumerate(img) :\n",
    "        out += layer*(i*255/(num_classes-1))\n",
    "    return out\n",
    "out_to_seg(batch_one_hot_encoded[0],3)"
   ]
  },
  {
   "cell_type": "code",
   "execution_count": 6,
   "id": "220c7dcc-8438-454d-97b1-8e989a7b8f06",
   "metadata": {
    "tags": []
   },
   "outputs": [],
   "source": [
    "from numpy import isnan\n",
    "\n",
    "\n",
    "def runTraining():\n",
    "    print('-' * 40)\n",
    "    print('~~~~~~~~  Starting the training... ~~~~~~')\n",
    "    print('-' * 40)\n",
    "\n",
    "    ## DEFINE HYPERPARAMETERS (batch_size > 1)\n",
    "    batch_size = 8\n",
    "    batch_size_val = 8\n",
    "    lr =   0.01  # Learning Rate\n",
    "    epoch = 50 # Number of epochs\n",
    "    \n",
    "    root_dir = './Data/'\n",
    "\n",
    "    print(' Dataset: {} '.format(root_dir))\n",
    "\n",
    "    ## DEFINE THE TRANSFORMATIONS TO DO AND THE VARIABLES FOR TRAINING AND VALIDATION\n",
    "    \n",
    "    transform = transforms.Compose([\n",
    "        transforms.ToTensor()\n",
    "    ])\n",
    "\n",
    "    mask_transform = transforms.Compose([\n",
    "        transforms.ToTensor()\n",
    "    ])\n",
    "\n",
    "    train_set_full = medicalDataLoader.MedicalImageDataset('train',\n",
    "                                                      root_dir,\n",
    "                                                      transform=transform,\n",
    "                                                      mask_transform=mask_transform,\n",
    "                                                      augment=True,\n",
    "                                                      equalize=True)\n",
    "\n",
    "    train_loader_full = DataLoader(train_set_full,\n",
    "                              batch_size=batch_size,\n",
    "                              worker_init_fn=np.random.seed(0),\n",
    "                              num_workers=0,\n",
    "                              shuffle=True)\n",
    "\n",
    "\n",
    "    val_set = medicalDataLoader.MedicalImageDataset('val',\n",
    "                                                    root_dir,\n",
    "                                                    transform=transform,\n",
    "                                                    mask_transform=mask_transform,\n",
    "                                                    equalize=False)\n",
    "\n",
    "    val_loader = DataLoader(val_set,\n",
    "                            batch_size=batch_size_val,\n",
    "                            worker_init_fn=np.random.seed(0),\n",
    "                            num_workers=0,\n",
    "                            shuffle=False)\n",
    "\n",
    "\n",
    "    ## INITIALIZE YOUR MODEL\n",
    "    num_classes = 4 # NUMBER OF CLASSES\n",
    "\n",
    "    print(\"~~~~~~~~~~~ Creating the UNet model ~~~~~~~~~~\")\n",
    "    modelName = 'Test_Model'\n",
    "    print(\" Model Name: {}\".format(modelName))\n",
    "\n",
    "    ## CREATION OF YOUR MODEL\n",
    "    net = UNet(num_classes)\n",
    "\n",
    "    print(\"Total params: {0:,}\".format(sum(p.numel() for p in net.parameters() if p.requires_grad)))\n",
    "\n",
    "    # DEFINE YOUR OUTPUT COMPONENTS (e.g., SOFTMAX, LOSS FUNCTION, ETC)\n",
    "    softMax = torch.nn.Softmax()\n",
    "    CE_loss = torch.nn.CrossEntropyLoss(weight=torch.Tensor([0.2,0,0,0.8]), reduction=\"sum\")\n",
    "\n",
    "    ## PUT EVERYTHING IN GPU RESOURCES    \n",
    "    if torch.cuda.is_available():\n",
    "        net.cuda()\n",
    "        softMax.cuda()\n",
    "        CE_loss.cuda()\n",
    "\n",
    "    ## DEFINE YOUR OPTIMIZER\n",
    "    optimizer = torch.optim.Adam(net.parameters(), lr=lr)\n",
    "\n",
    "    ### To save statistics ####\n",
    "    lossTotalTraining = []\n",
    "    Best_loss_val = 1000\n",
    "    BestEpoch = 0\n",
    "    \n",
    "    directory = 'Results/Statistics/' + modelName\n",
    "\n",
    "    print(\"~~~~~~~~~~~ Starting the training ~~~~~~~~~~\")\n",
    "    if os.path.exists(directory)==False:\n",
    "        os.makedirs(directory)\n",
    "\n",
    "    ## START THE TRAINING\n",
    "    \n",
    "    ## FOR EACH EPOCH\n",
    "    for i in range(epoch):\n",
    "        net.train()\n",
    "        lossEpoch = []\n",
    "        DSCEpoch = []\n",
    "        DSCEpoch_w = []\n",
    "        num_batches = len(train_loader_full)\n",
    "        \n",
    "        ## FOR EACH BATCH\n",
    "        for j, data in enumerate(train_loader_full):\n",
    "            ### Set to zero all the gradients\n",
    "            net.zero_grad()\n",
    "            optimizer.zero_grad()\n",
    "\n",
    "            ## GET IMAGES, LABELS and IMG NAMES\n",
    "            images, labels, img_names = data\n",
    "\n",
    "            ### From numpy to torch variables\n",
    "            labels = to_var(labels)\n",
    "            images = to_var(images)\n",
    "            \n",
    "            ################### Train ###################\n",
    "            #-- The CNN makes its predictions (forward pass)\n",
    "            net_predictions = softMax(net(images))\n",
    "            #-- Compute the losses --#\n",
    "            # THIS FUNCTION IS TO CONVERT LABELS TO A FORMAT TO BE USED IN THIS CODE\n",
    "            segmentation_classes = getTargetSegmentation(labels)\n",
    "            encoded_classes = batch_one_hot_encode(segmentation_classes, num_classes)\n",
    "            # COMPUTE THE LOSS\n",
    "            CE_loss_value = CE_loss(net_predictions, encoded_classes) # XXXXXX and YYYYYYY are your inputs for the CE\n",
    "            element_by_layers = predToSegmentation(net_predictions).sum(dim=(2,3))\n",
    "            prob_by_layer = (element_by_layers/(element_by_layers.sum()))\n",
    "            piecewise_diff = prob_by_layer - torch.Tensor([0.8,0,0,0.2]).to(prob_by_layer.device)\n",
    "            shannon = torch.pow(piecewise_diff, 2)\n",
    "            lossTotal = CE_loss_value\n",
    "            # DO THE STEPS FOR BACKPROP (two things to be done in pytorch)\n",
    "            CE_loss_value.backward()\n",
    "            optimizer.step()\n",
    "            # THIS IS JUST TO VISUALIZE THE TRAINING \n",
    "            lossEpoch.append(lossTotal.cpu().data.numpy())\n",
    "            printProgressBar(j + 1, num_batches,\n",
    "                             prefix=\"[Training] Epoch: {} \".format(i) ,\n",
    "                            length=15,\n",
    "                             suffix=\" Loss: {:.4f}, \".format(lossTotal))\n",
    "\n",
    "        lossEpoch = np.asarray(lossEpoch)\n",
    "        lossEpoch = lossEpoch.mean()\n",
    "\n",
    "        lossTotalTraining.append(lossEpoch)\n",
    "\n",
    "        printProgressBar(num_batches, num_batches,\n",
    "                             done=\"[Training] Epoch: {}, LossG: {:.4f}\".format(i,lossEpoch))\n",
    "\n",
    "        \n",
    "        ## THIS IS HOW YOU WILL SAVE THE TRAINED MODELS AFTER EACH EPOCH. \n",
    "        ## WARNING!!!!! YOU DON'T WANT TO SAVE IT AT EACH EPOCH, BUT ONLY WHEN THE MODEL WORKS BEST ON THE VALIDATION SET!!\n",
    "        if not os.path.exists('./models/' + modelName):\n",
    "            os.makedirs('./models/' + modelName)\n",
    "        if i == epoch-1:\n",
    "            torch.save(net.state_dict(), './models/' + modelName + '/' + str(i) + '_Epoch')\n",
    "            \n",
    "        np.save(os.path.join(directory, 'Losses.npy'), lossTotalTraining)\n"
   ]
  },
  {
   "cell_type": "code",
   "execution_count": 7,
   "id": "67f81713-4c18-4dd3-bc72-35dd8f30a339",
   "metadata": {
    "tags": []
   },
   "outputs": [
    {
     "name": "stdout",
     "output_type": "stream",
     "text": [
      "----------------------------------------\n",
      "~~~~~~~~  Starting the training... ~~~~~~\n",
      "----------------------------------------\n",
      " Dataset: ./Data/ \n",
      "~~~~~~~~~~~ Creating the UNet model ~~~~~~~~~~\n",
      " Model Name: Test_Model\n",
      "Total params: 962,452\n",
      "~~~~~~~~~~~ Starting the training ~~~~~~~~~~\n",
      "[Training] Epoch: 0 [DONE]                                     \n",
      "[Training] Epoch: 0, LossG: 107850.4453                                                                      \n",
      "[Training] Epoch: 1 [DONE]                                     \n",
      "[Training] Epoch: 1, LossG: 81161.7344                                                                       \n",
      "[Training] Epoch: 2 [DONE]                                     \n",
      "[Training] Epoch: 2, LossG: 80303.7578                                                                       \n",
      "[Training] Epoch: 3 [DONE]                                     \n",
      "[Training] Epoch: 3, LossG: 80242.0078                                                                       \n",
      "[Training] Epoch: 4 [DONE]                                     \n",
      "[Training] Epoch: 4, LossG: 80218.6172                                                                       \n",
      "[Training] Epoch: 5 [DONE]                                     \n",
      "[Training] Epoch: 5, LossG: 80205.4062                                                                       \n",
      "[Training] Epoch: 6 [DONE]                                     \n",
      "[Training] Epoch: 6, LossG: 80192.5078                                                                       \n",
      "[Training] Epoch: 7 [DONE]                                     \n",
      "[Training] Epoch: 7, LossG: 80185.9453                                                                       \n",
      "[Training] Epoch: 8 [DONE]                                     \n",
      "[Training] Epoch: 8, LossG: 80180.5781                                                                       \n",
      "[Training] Epoch: 9 [DONE]                                     \n",
      "[Training] Epoch: 9, LossG: 80175.6250                                                                       \n",
      "[Training] Epoch: 10 [DONE]                                     \n",
      "[Training] Epoch: 10, LossG: 80172.1406                                                                      \n",
      "[Training] Epoch: 11 [DONE]                                     \n",
      "[Training] Epoch: 11, LossG: 80168.1875                                                                      \n",
      "[Training] Epoch: 12 [DONE]                                     \n",
      "[Training] Epoch: 12, LossG: 80166.8047                                                                      \n",
      "[Training] Epoch: 13 [DONE]                                     \n",
      "[Training] Epoch: 13, LossG: 80164.8203                                                                      \n",
      "[Training] Epoch: 14 [DONE]                                     \n",
      "[Training] Epoch: 14, LossG: 80164.5938                                                                      \n",
      "[Training] Epoch: 15 [DONE]                                     \n",
      "[Training] Epoch: 15, LossG: 80163.4844                                                                      \n",
      "[Training] Epoch: 16 [DONE]                                     \n",
      "[Training] Epoch: 16, LossG: 80161.0312                                                                      \n",
      "[Training] Epoch: 17 [DONE]                                     \n",
      "[Training] Epoch: 17, LossG: 80162.9141                                                                      \n",
      "[Training] Epoch: 18 [DONE]                                     \n",
      "[Training] Epoch: 18, LossG: 80160.5469                                                                      \n",
      "[Training] Epoch: 19 [DONE]                                     \n",
      "[Training] Epoch: 19, LossG: 80158.6875                                                                      \n",
      "[Training] Epoch: 20 [DONE]                                     \n",
      "[Training] Epoch: 20, LossG: 80159.1797                                                                      \n",
      "[Training] Epoch: 21 [DONE]                                     \n",
      "[Training] Epoch: 21, LossG: 80157.3281                                                                      \n",
      "[Training] Epoch: 22 [DONE]                                     \n",
      "[Training] Epoch: 22, LossG: 80156.1406                                                                      \n",
      "[Training] Epoch: 23 [DONE]                                     \n",
      "[Training] Epoch: 23, LossG: 80155.6250                                                                      \n",
      "[Training] Epoch: 24 [DONE]                                     \n",
      "[Training] Epoch: 24, LossG: 80157.5234                                                                      \n",
      "[Training] Epoch: 25 [DONE]                                     \n",
      "[Training] Epoch: 25, LossG: 80155.3906                                                                      \n",
      "[Training] Epoch: 26 [DONE]                                     \n",
      "[Training] Epoch: 26, LossG: 80155.9844                                                                      \n",
      "[Training] Epoch: 27 [DONE]                                     \n",
      "[Training] Epoch: 27, LossG: 80155.3047                                                                      \n",
      "[Training] Epoch: 28 [DONE]                                     \n",
      "[Training] Epoch: 28, LossG: 80156.9062                                                                      \n",
      "[Training] Epoch: 29 [DONE]                                     \n",
      "[Training] Epoch: 29, LossG: 80154.7812                                                                      \n",
      "[Training] Epoch: 30 [DONE]                                     \n",
      "[Training] Epoch: 30, LossG: 80155.2344                                                                      \n",
      "[Training] Epoch: 31 [DONE]                                     \n",
      "[Training] Epoch: 31, LossG: 80154.6250                                                                      \n",
      "[Training] Epoch: 32 [DONE]                                     \n",
      "[Training] Epoch: 32, LossG: 80155.7812                                                                      \n",
      "[Training] Epoch: 33 [DONE]                                     \n",
      "[Training] Epoch: 33, LossG: 80152.9531                                                                      \n",
      "[Training] Epoch: 34 [DONE]                                     \n",
      "[Training] Epoch: 34, LossG: 80155.5000                                                                      \n",
      "[Training] Epoch: 35 [DONE]                                     \n",
      "[Training] Epoch: 35, LossG: 80156.8438                                                                      \n",
      "[Training] Epoch: 36 [DONE]                                     \n",
      "[Training] Epoch: 36, LossG: 80153.6094                                                                      \n",
      "[Training] Epoch: 37 [DONE]                                     \n",
      "[Training] Epoch: 37, LossG: 80153.5938                                                                      \n",
      "[Training] Epoch: 38 [DONE]                                     \n",
      "[Training] Epoch: 38, LossG: 80154.4844                                                                      \n",
      "[Training] Epoch: 39 [DONE]                                     \n",
      "[Training] Epoch: 39, LossG: 80154.1094                                                                      \n",
      "[Training] Epoch: 40 [DONE]                                     \n",
      "[Training] Epoch: 40, LossG: 80152.0469                                                                      \n",
      "[Training] Epoch: 41 [DONE]                                     \n",
      "[Training] Epoch: 41, LossG: 80153.5156                                                                      \n",
      "[Training] Epoch: 42 [DONE]                                     \n",
      "[Training] Epoch: 42, LossG: 80153.2031                                                                      \n",
      "[Training] Epoch: 43 [DONE]                                     \n",
      "[Training] Epoch: 43, LossG: 80152.4688                                                                      \n",
      "[Training] Epoch: 44 [DONE]                                     \n",
      "[Training] Epoch: 44, LossG: 80153.4219                                                                      \n",
      "[Training] Epoch: 45 [DONE]                                     \n",
      "[Training] Epoch: 45, LossG: 80153.3906                                                                      \n",
      "[Training] Epoch: 46 [DONE]                                     \n",
      "[Training] Epoch: 46, LossG: 80154.2578                                                                      \n",
      "[Training] Epoch: 47 [DONE]                                     \n",
      "[Training] Epoch: 47, LossG: 80153.8828                                                                      \n",
      "[Training] Epoch: 48 [DONE]                                     \n",
      "[Training] Epoch: 48, LossG: 80153.1719                                                                      \n",
      "[Training] Epoch: 49 [DONE]                                     \n",
      "[Training] Epoch: 49, LossG: 80153.5938                                                                      \n"
     ]
    }
   ],
   "source": [
    "runTraining()"
   ]
  },
  {
   "cell_type": "code",
   "execution_count": 11,
   "id": "5ae10184-bacf-4c4d-9767-3272a76a0052",
   "metadata": {},
   "outputs": [],
   "source": [
    "import matplotlib.pyplot as plt\n",
    "from PIL import Image"
   ]
  },
  {
   "cell_type": "code",
   "execution_count": 8,
   "metadata": {},
   "outputs": [],
   "source": [
    "mod = UNet(num_classes=4).cuda()\n",
    "mod.load_state_dict(torch.load(\"models/Test_Model/49_Epoch\"))\n",
    "transform = transforms.Compose([\n",
    "        transforms.ToTensor()\n",
    "    ])"
   ]
  },
  {
   "cell_type": "code",
   "execution_count": 9,
   "metadata": {},
   "outputs": [
    {
     "name": "stdout",
     "output_type": "stream",
     "text": [
      "[Inference] Segmentation Done !                                                                              \n"
     ]
    },
    {
     "data": {
      "text/plain": [
       "0.3938426"
      ]
     },
     "execution_count": 9,
     "metadata": {},
     "output_type": "execute_result"
    }
   ],
   "source": [
    "val_set = medicalDataLoader.MedicalImageDataset('val',\n",
    "                                                    \"./Data/\",\n",
    "                                                    transform=transform,\n",
    "                                                    mask_transform=transform,\n",
    "                                                    equalize=False)\n",
    "\n",
    "val_loader = DataLoader(val_set,\n",
    "                            batch_size=2,\n",
    "                            worker_init_fn=np.random.seed(0),\n",
    "                            num_workers=0,\n",
    "                            shuffle=False)\n",
    "inference(mod, val_loader, \"Test_Model\", 99)"
   ]
  },
  {
   "cell_type": "code",
   "execution_count": 12,
   "metadata": {},
   "outputs": [
    {
     "name": "stdout",
     "output_type": "stream",
     "text": [
      "torch.return_types.max(\n",
      "values=tensor([[1.0000, 1.0000, 1.0000,  ..., 1.0000, 1.0000, 1.0000],\n",
      "        [1.0000, 1.0000, 1.0000,  ..., 1.0000, 1.0000, 1.0000],\n",
      "        [1.0000, 1.0000, 1.0000,  ..., 1.0000, 1.0000, 1.0000],\n",
      "        ...,\n",
      "        [1.0000, 1.0000, 1.0000,  ..., 1.0000, 1.0000, 1.0000],\n",
      "        [1.0000, 1.0000, 1.0000,  ..., 1.0000, 1.0000, 1.0000],\n",
      "        [1.0000, 1.0000, 1.0000,  ..., 1.0000, 1.0000, 1.0000]]),\n",
      "indices=tensor([[0, 0, 0,  ..., 0, 0, 0],\n",
      "        [0, 0, 0,  ..., 0, 0, 0],\n",
      "        [0, 0, 0,  ..., 0, 0, 0],\n",
      "        ...,\n",
      "        [0, 0, 0,  ..., 0, 0, 0],\n",
      "        [0, 0, 0,  ..., 0, 0, 0],\n",
      "        [0, 0, 0,  ..., 0, 0, 0]]))\n"
     ]
    },
    {
     "data": {
      "text/plain": [
       "(tensor([0.0000, 0.3333, 0.6667, 1.0000]),\n",
       " './Data/val\\\\Img\\\\patient001_01_4.png')"
      ]
     },
     "execution_count": 12,
     "metadata": {},
     "output_type": "execute_result"
    },
    {
     "data": {
      "image/png": "[encoded data removed]",
      "text/plain": [
       "<Figure size 2000x2000 with 2 Axes>"
      ]
     },
     "metadata": {},
     "output_type": "display_data"
    }
   ],
   "source": [
    "img, mask, path = val_set[4]\n",
    "out = mod(to_var(img)[None,:])\n",
    "out_cpu =out.detach().cpu()[0]\n",
    "out_cpu = torch.nn.functional.softmax(out_cpu, dim=0)\n",
    "segmentation_image = out_to_seg(predToSegmentation(out_cpu),3)\n",
    "\n",
    "# Now, concatenated_output has shape (batch_size, 1, num_classes, height, width)\n",
    "# If you want to remove the singleton dimension, you can use squeeze\n",
    "print(out_cpu.max(dim=0))\n",
    "fig, plots = plt.subplots(1,2, figsize=(20,20))\n",
    "plots[0].imshow(segmentation_image.permute(1,2,0), cmap=\"gray\")\n",
    "plots[1].imshow(mask.permute(1,2,0), cmap=\"gray\")\n",
    "mask.unique(), path\n"
   ]
  },
  {
   "cell_type": "code",
   "execution_count": null,
   "metadata": {},
   "outputs": [],
   "source": []
  }
 ],
 "metadata": {
  "kernelspec": {
   "display_name": "saturn (Python 3)",
   "language": "python",
   "name": "python3"
  },
  "language_info": {
   "codemirror_mode": {
    "name": "ipython",
    "version": 3
   },
   "file_extension": ".py",
   "mimetype": "text/x-python",
   "name": "python",
   "nbconvert_exporter": "python",
   "pygments_lexer": "ipython3",
   "version": "3.11.5"
  }
 },
 "nbformat": 4,
 "nbformat_minor": 5
}
